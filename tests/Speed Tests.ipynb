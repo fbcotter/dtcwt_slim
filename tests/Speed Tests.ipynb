{
 "cells": [
  {
   "cell_type": "markdown",
   "metadata": {},
   "source": [
    "# Speed Comparisons between the Numpy an TF implementations of the DTCWT\n",
    "Operations were performed on a system with a GTX 1080 GPU and Intel Xeon CPU E5-2660 CPU"
   ]
  },
  {
   "cell_type": "code",
   "execution_count": 1,
   "metadata": {
    "ExecuteTime": {
     "end_time": "2018-02-20T14:28:14.813724Z",
     "start_time": "2018-02-20T14:28:13.193648Z"
    }
   },
   "outputs": [
    {
     "name": "stderr",
     "output_type": "stream",
     "text": [
      "/usr/local/lib/python3.5/dist-packages/h5py/__init__.py:36: FutureWarning: Conversion of the second argument of issubdtype from `float` to `np.floating` is deprecated. In future, it will be treated as `np.float64 == np.dtype(float).type`.\n",
      "  from ._conv import register_converters as _register_converters\n"
     ]
    }
   ],
   "source": [
    "%matplotlib inline\n",
    "import matplotlib.pyplot as plt\n",
    "import datasets\n",
    "import dtcwt\n",
    "import dtcwt.tf\n",
    "import dtcwt_slim \n",
    "import tensorflow as tf\n",
    "from tensorflow.python.client import timeline\n",
    "from time import time\n",
    "import numpy as np\n",
    "import os\n",
    "import py3nvml\n",
    "plt.style.use('seaborn')\n",
    "py3nvml.grab_gpus(1, gpu_fraction=0.95);"
   ]
  },
  {
   "cell_type": "markdown",
   "metadata": {},
   "source": [
    "# Analysis of Small Images"
   ]
  },
  {
   "cell_type": "markdown",
   "metadata": {},
   "source": [
    "## DTCWT on a single small image (64x64)"
   ]
  },
  {
   "cell_type": "code",
   "execution_count": 65,
   "metadata": {
    "ExecuteTime": {
     "end_time": "2018-02-20T14:44:05.419218Z",
     "start_time": "2018-02-20T14:44:03.914273Z"
    }
   },
   "outputs": [],
   "source": [
    "# Create the input\n",
    "h, w = 64, 64\n",
    "in_ = np.random.randn(1,h,w)\n",
    "\n",
    "# Set up the transforms\n",
    "nlevels = 3\n",
    "tf.reset_default_graph()\n",
    "fwd = dtcwt.Transform2d(biort='antonini', qshift='qshift_a')        # Numpy Transform\n",
    "fwd_tf = dtcwt.tf.Transform2d(biort='antonini', qshift='qshift_a')  # Tensorflow Transform\n",
    "fwd_slim = dtcwt_slim.Transform2d(biort='antonini', qshift='qshift_a') # Slim transform\n",
    "\n",
    "in_placeholder = tf.placeholder(tf.float32, [None, h, w])\n",
    "out_tf = fwd_tf.forward_channels(in_placeholder, data_format='nhw', nlevels=nlevels)\n",
    "Yl, Yh = fwd_slim.forward(in_placeholder, nlevels=nlevels)\n",
    "filter = tf.Variable(np.random.randn(10,10,1,1), dtype=tf.float32)\n",
    "out_conv = tf.nn.conv2d(tf.expand_dims(in_placeholder, axis=1), filter, strides=[1,1,1,1],\n",
    "                        padding='SAME', data_format='NCHW')\n",
    "\n",
    "sess = tf.Session()\n",
    "sess.run(tf.global_variables_initializer())"
   ]
  },
  {
   "cell_type": "markdown",
   "metadata": {},
   "source": [
    "### Implementations"
   ]
  },
  {
   "cell_type": "code",
   "execution_count": 54,
   "metadata": {
    "ExecuteTime": {
     "end_time": "2018-02-20T14:42:14.920782Z",
     "start_time": "2018-02-20T14:42:09.734619Z"
    }
   },
   "outputs": [
    {
     "name": "stdout",
     "output_type": "stream",
     "text": [
      "6.38 ms ± 47.2 µs per loop (mean ± std. dev. of 7 runs, 100 loops each)\n"
     ]
    }
   ],
   "source": [
    "small_np = %timeit -o for i in in_: fwd.forward(i, nlevels=nlevels)\n",
    "small_tf = %timeit -o sess.run([out_tf.lowpass_op, out_tf.highpasses_ops], {in_placeholder: in_})\n",
    "small_slim = %timeit -o sess.run([Yl, Yh], {in_placeholder: in_})\n",
    "small_conv = %timeit -o sess.run(out_conv, {in_placeholder: in_})"
   ]
  },
  {
   "cell_type": "markdown",
   "metadata": {},
   "source": [
    "## DTCWT on a batch of small images (100x64x64)"
   ]
  },
  {
   "cell_type": "code",
   "execution_count": 59,
   "metadata": {
    "ExecuteTime": {
     "end_time": "2018-02-20T14:42:31.181179Z",
     "start_time": "2018-02-20T14:42:26.149479Z"
    }
   },
   "outputs": [
    {
     "name": "stdout",
     "output_type": "stream",
     "text": [
      "628 ms ± 5.33 ms per loop (mean ± std. dev. of 7 runs, 1 loop each)\n"
     ]
    }
   ],
   "source": [
    "in_ = np.random.randn(100,h,w)\n",
    "small_np_batch = %timeit -o for i in in_: fwd.forward(i, nlevels=nlevels)\n",
    "small_tf_batch = %timeit -o sess.run([out_tf.lowpass_op, out_tf.highpasses_ops], {in_placeholder: in_})\n",
    "small_slim_batch = %timeit -o sess.run([Yl, Yh], {in_placeholder: in_})\n",
    "small_conv_batch = %timeit -o sess.run(out_conv, {in_placeholder: in_})"
   ]
  },
  {
   "cell_type": "markdown",
   "metadata": {},
   "source": [
    "## Small Image Conclusion"
   ]
  },
  {
   "cell_type": "code",
   "execution_count": 89,
   "metadata": {
    "ExecuteTime": {
     "end_time": "2018-02-20T14:53:42.297824Z",
     "start_time": "2018-02-20T14:53:42.101885Z"
    }
   },
   "outputs": [
    {
     "data": {
      "image/png": "[encoded data removed]",
      "text/plain": [
       "<matplotlib.figure.Figure at 0x7f25b2b003c8>"
      ]
     },
     "metadata": {},
     "output_type": "display_data"
    }
   ],
   "source": [
    "objects = ('np single', 'tf single', 'slim single', 'conv2d', 'tf batch', 'slim batch', 'conv2d batch')\n",
    "y_pos = np.arange(len(objects))\n",
    "performance = [small_np.average, small_tf.average, small_slim.average, small_conv.average,\n",
    "               small_tf_batch.average, small_slim_batch.average, small_conv_batch.average]\n",
    "performance = [i*1000 for i in performance]\n",
    "fig, ax = plt.subplots(1, figsize=(10,10))\n",
    "ax.bar(y_pos, performance, align='center', alpha=0.5, color=['red', 'blue', 'green', 'purple', 'blue', 'green', 'purple'])\n",
    "plt.xticks(y_pos, objects)\n",
    "plt.ylabel('Time (ms)')\n",
    "plt.title('Times to perform DTCWT on small images')\n",
    "plt.show()"
   ]
  },
  {
   "cell_type": "markdown",
   "metadata": {},
   "source": [
    "# Analysis of Large Images"
   ]
  },
  {
   "cell_type": "markdown",
   "metadata": {},
   "source": [
    "## DTCWT on a single large image (512x512)"
   ]
  },
  {
   "cell_type": "code",
   "execution_count": 80,
   "metadata": {
    "ExecuteTime": {
     "end_time": "2018-02-20T14:49:20.211072Z",
     "start_time": "2018-02-20T14:49:18.653926Z"
    }
   },
   "outputs": [],
   "source": [
    "# Create the input\n",
    "h, w = 512, 512\n",
    "in_ = np.random.randn(1,h,w)\n",
    "\n",
    "# Set up the transforms\n",
    "nlevels = 3\n",
    "tf.reset_default_graph()\n",
    "fwd = dtcwt.Transform2d(biort='antonini', qshift='qshift_a')        # Numpy Transform\n",
    "fwd_tf = dtcwt.tf.Transform2d(biort='antonini', qshift='qshift_a')  # Tensorflow Transform\n",
    "fwd_slim = dtcwt_slim.Transform2d(biort='antonini', qshift='qshift_a')\n",
    "\n",
    "in_placeholder = tf.placeholder(tf.float32, [None, h, w])\n",
    "out_tf = fwd_tf.forward_channels(in_placeholder, data_format='nhw', nlevels=nlevels)\n",
    "Yl, Yh = fwd_slim.forward(in_placeholder, nlevels=nlevels)\n",
    "filter = tf.Variable(np.random.randn(10,10,1,1), dtype=tf.float32)\n",
    "out_conv = tf.nn.conv2d(tf.expand_dims(in_placeholder, axis=1), filter, strides=[1,1,1,1],\n",
    "                        padding='SAME', data_format='NCHW')\n",
    "\n",
    "sess = tf.Session()\n",
    "sess.run(tf.global_variables_initializer())"
   ]
  },
  {
   "cell_type": "markdown",
   "metadata": {},
   "source": [
    "### Compare Implementations"
   ]
  },
  {
   "cell_type": "code",
   "execution_count": 81,
   "metadata": {
    "ExecuteTime": {
     "end_time": "2018-02-20T14:49:44.896129Z",
     "start_time": "2018-02-20T14:49:20.711457Z"
    },
    "scrolled": false
   },
   "outputs": [
    {
     "name": "stdout",
     "output_type": "stream",
     "text": [
      "66.7 ms ± 359 µs per loop (mean ± std. dev. of 7 runs, 10 loops each)\n",
      "4.23 ms ± 35.9 µs per loop (mean ± std. dev. of 7 runs, 100 loops each)\n",
      "5.12 ms ± 109 µs per loop (mean ± std. dev. of 7 runs, 100 loops each)\n",
      "1.33 ms ± 4.06 µs per loop (mean ± std. dev. of 7 runs, 1000 loops each)\n"
     ]
    }
   ],
   "source": [
    "large_np = %timeit -o for i in in_: fwd.forward(i, nlevels=nlevels)\n",
    "large_tf = %timeit -o sess.run([out_tf.lowpass_op, out_tf.highpasses_ops], {in_placeholder: in_})\n",
    "large_slim = %timeit -o sess.run([Yl, Yh], {in_placeholder: in_})\n",
    "large_conv = %timeit -o sess.run(out_conv, {in_placeholder: in_})"
   ]
  },
  {
   "cell_type": "markdown",
   "metadata": {},
   "source": [
    "## DTCWT on a batch of large images (100x512x512)\n",
    "Batches are something tensorflow naturally handles. This should widen the gap as we only have to copy data to the GPU once for multiple images"
   ]
  },
  {
   "cell_type": "code",
   "execution_count": 82,
   "metadata": {
    "ExecuteTime": {
     "end_time": "2018-02-20T14:51:08.766525Z",
     "start_time": "2018-02-20T14:50:00.231861Z"
    }
   },
   "outputs": [
    {
     "name": "stdout",
     "output_type": "stream",
     "text": [
      "6.72 s ± 8.96 ms per loop (mean ± std. dev. of 7 runs, 1 loop each)\n",
      "237 ms ± 8.78 ms per loop (mean ± std. dev. of 7 runs, 1 loop each)\n",
      "262 ms ± 7.87 ms per loop (mean ± std. dev. of 7 runs, 1 loop each)\n",
      "108 ms ± 733 µs per loop (mean ± std. dev. of 7 runs, 10 loops each)\n"
     ]
    }
   ],
   "source": [
    "in_ = np.random.randn(100,512,512)\n",
    "large_np_batch = %timeit -o for i in in_: fwd.forward(i, nlevels=nlevels)\n",
    "large_tf_batch = %timeit -o sess.run([out_tf.lowpass_op, out_tf.highpasses_ops], {in_placeholder: in_})\n",
    "large_slim_batch = %timeit -o sess.run([Yl, Yh], {in_placeholder: in_})\n",
    "large_conv_batch = %timeit -o sess.run(out_conv, {in_placeholder: in_})"
   ]
  },
  {
   "cell_type": "markdown",
   "metadata": {},
   "source": [
    "# Large Image Conclusion"
   ]
  },
  {
   "cell_type": "code",
   "execution_count": 88,
   "metadata": {
    "ExecuteTime": {
     "end_time": "2018-02-20T14:53:27.097052Z",
     "start_time": "2018-02-20T14:53:26.876956Z"
    }
   },
   "outputs": [
    {
     "data": {
      "image/png": "[encoded data removed]",
      "text/plain": [
       "<matplotlib.figure.Figure at 0x7f25b29815c0>"
      ]
     },
     "metadata": {},
     "output_type": "display_data"
    }
   ],
   "source": [
    "objects = ('np single', 'tf single', 'slim single', 'conv2d', 'tf batch', 'slim batch', 'conv2d batch')\n",
    "y_pos = np.arange(len(objects))\n",
    "performance = [large_np.average, large_tf.average, large_slim.average, large_conv.average,\n",
    "               large_tf_batch.average, large_slim_batch.average,\n",
    "               large_conv_batch.average]\n",
    "performance = [i*1000 for i in performance]\n",
    "fig, ax = plt.subplots(1, figsize=(12,12))\n",
    "ax.bar(y_pos, performance, align='center', alpha=0.5, color=['red', 'blue', 'green', 'purple', 'blue', 'green', 'purple'])\n",
    "plt.xticks(y_pos, objects)\n",
    "plt.ylabel('Time (ms)')\n",
    "plt.title('Times to perform different DTCWT operations on large images')\n",
    "plt.show()"
   ]
  },
  {
   "cell_type": "markdown",
   "metadata": {},
   "source": [
    "# Multiple Channels"
   ]
  },
  {
   "cell_type": "code",
   "execution_count": 98,
   "metadata": {
    "ExecuteTime": {
     "end_time": "2018-02-20T15:03:37.089532Z",
     "start_time": "2018-02-20T15:03:35.575421Z"
    }
   },
   "outputs": [],
   "source": [
    "# Create the input\n",
    "h, w = 256,256\n",
    "in_ = np.random.randn(1,64,h,w)\n",
    "\n",
    "# Set up the transforms\n",
    "nlevels = 3\n",
    "tf.reset_default_graph()\n",
    "fwd_tf = dtcwt.tf.Transform2d(biort='antonini', qshift='qshift_a')  # Tensorflow Transform\n",
    "fwd_slim = dtcwt_slim.Transform2d(biort='antonini', qshift='qshift_a')\n",
    "\n",
    "in_placeholder = tf.placeholder(tf.float32, [None, 64, h, w])\n",
    "out_tf = fwd_tf.forward_channels(in_placeholder, data_format='nchw', nlevels=nlevels)\n",
    "Yl, Yh = fwd_slim.forward(in_placeholder, nlevels=nlevels)\n",
    "filter = tf.Variable(np.random.randn(10,10,64,1), dtype=tf.float32)\n",
    "out_conv = tf.nn.conv2d(in_placeholder, filter, strides=[1,1,1,1],\n",
    "                        padding='SAME', data_format='NCHW')\n",
    "\n",
    "sess = tf.Session()\n",
    "sess.run(tf.global_variables_initializer())"
   ]
  },
  {
   "cell_type": "code",
   "execution_count": 99,
   "metadata": {
    "ExecuteTime": {
     "end_time": "2018-02-20T15:03:49.872062Z",
     "start_time": "2018-02-20T15:03:37.091812Z"
    }
   },
   "outputs": [
    {
     "name": "stdout",
     "output_type": "stream",
     "text": [
      "34 ms ± 2.2 ms per loop (mean ± std. dev. of 7 runs, 1 loop each)\n",
      "24.9 ms ± 835 µs per loop (mean ± std. dev. of 7 runs, 10 loops each)\n",
      "12.5 ms ± 134 µs per loop (mean ± std. dev. of 7 runs, 100 loops each)\n"
     ]
    }
   ],
   "source": [
    "largech_tf = %timeit -o sess.run([out_tf.lowpass_op, out_tf.highpasses_ops], {in_placeholder: in_})\n",
    "largech_slim = %timeit -o sess.run([Yl, Yh], {in_placeholder: in_})\n",
    "largech_conv = %timeit -o sess.run(out_conv, {in_placeholder: in_})"
   ]
  },
  {
   "cell_type": "markdown",
   "metadata": {},
   "source": [
    "### With a batch of images"
   ]
  },
  {
   "cell_type": "code",
   "execution_count": 100,
   "metadata": {
    "ExecuteTime": {
     "end_time": "2018-02-20T15:04:03.727049Z",
     "start_time": "2018-02-20T15:03:49.874302Z"
    }
   },
   "outputs": [
    {
     "name": "stdout",
     "output_type": "stream",
     "text": [
      "569 ms ± 707 µs per loop (mean ± std. dev. of 7 runs, 1 loop each)\n",
      "406 ms ± 23.2 ms per loop (mean ± std. dev. of 7 runs, 1 loop each)\n",
      "241 ms ± 4.3 ms per loop (mean ± std. dev. of 7 runs, 1 loop each)\n"
     ]
    }
   ],
   "source": [
    "in_ = np.random.randn(16,64,h,w)\n",
    "largech_tf_batch = %timeit -o sess.run([out_tf.lowpass_op, out_tf.highpasses_ops], {in_placeholder: in_})\n",
    "largech_slim_batch = %timeit -o sess.run([Yl, Yh], {in_placeholder: in_})\n",
    "largech_conv_batch = %timeit -o sess.run(out_conv, {in_placeholder: in_})"
   ]
  },
  {
   "cell_type": "code",
   "execution_count": 101,
   "metadata": {
    "ExecuteTime": {
     "end_time": "2018-02-20T15:04:11.048060Z",
     "start_time": "2018-02-20T15:04:10.831859Z"
    }
   },
   "outputs": [
    {
     "data": {
      "image/png": "[encoded data removed]",
      "text/plain": [
       "<matplotlib.figure.Figure at 0x7f25b0a40ba8>"
      ]
     },
     "metadata": {},
     "output_type": "display_data"
    }
   ],
   "source": [
    "objects = ('tf single', 'slim single', 'conv2d', 'tf batch', 'slim batch', 'conv2d batch')\n",
    "y_pos = np.arange(len(objects))\n",
    "performance = [largech_tf.average, largech_slim.average, largech_conv.average,\n",
    "               largech_tf_batch.average, largech_slim_batch.average,\n",
    "               largech_conv_batch.average]\n",
    "performance = [i*1000 for i in performance]\n",
    "fig, ax = plt.subplots(1, figsize=(12,12))\n",
    "ax.bar(y_pos, performance, align='center', alpha=0.5, color=['blue', 'green', 'purple', 'blue', 'green', 'purple'])\n",
    "plt.xticks(y_pos, objects)\n",
    "plt.ylabel('Time (ms)')\n",
    "plt.title('Times to perform different DTCWT operations on large images')\n",
    "plt.show()"
   ]
  },
  {
   "cell_type": "markdown",
   "metadata": {},
   "source": [
    "# Forward and Inverse together"
   ]
  },
  {
   "cell_type": "code",
   "execution_count": 103,
   "metadata": {
    "ExecuteTime": {
     "end_time": "2018-02-20T15:05:35.484652Z",
     "start_time": "2018-02-20T15:05:28.928999Z"
    }
   },
   "outputs": [],
   "source": [
    "# Create the input\n",
    "h, w = 256, 256\n",
    "in_ = np.random.randn(16,64,h,w)\n",
    "\n",
    "# Set up the transforms\n",
    "nlevels = 3\n",
    "tf.reset_default_graph()\n",
    "fwd_tf = dtcwt.tf.Transform2d(biort='antonini', qshift='qshift_a')  # Tensorflow Transform\n",
    "fwd_slim = dtcwt_slim.Transform2d(biort='antonini', qshift='qshift_a')\n",
    "\n",
    "in_placeholder = tf.placeholder(tf.float32, [None, 64, h, w])\n",
    "out_tf = fwd_tf.forward_channels(in_placeholder, data_format='nchw', nlevels=nlevels)\n",
    "out_tf = fwd_tf.inverse_channels(out_tf, data_format='nchw')\n",
    "\n",
    "Yl, Yh = fwd_slim.forward(in_placeholder, nlevels=nlevels)\n",
    "out_slim = fwd_slim.inverse(Yl, Yh)\n",
    "\n",
    "filter = tf.Variable(np.random.randn(10,10,64,1), dtype=tf.float32)\n",
    "out_conv = tf.nn.conv2d(in_placeholder, filter, strides=[1,1,1,1],\n",
    "                        padding='SAME', data_format='NCHW')\n",
    "filter = tf.Variable(np.random.randn(10,10,1,64), dtype=tf.float32)\n",
    "out_conv = tf.nn.conv2d(out_conv, filter, strides=[1,1,1,1],\n",
    "                        padding='SAME', data_format='NCHW')\n",
    "\n",
    "\n",
    "sess = tf.Session()\n",
    "sess.run(tf.global_variables_initializer())"
   ]
  },
  {
   "cell_type": "code",
   "execution_count": 104,
   "metadata": {
    "ExecuteTime": {
     "end_time": "2018-02-20T15:05:54.001321Z",
     "start_time": "2018-02-20T15:05:35.486584Z"
    }
   },
   "outputs": [
    {
     "name": "stdout",
     "output_type": "stream",
     "text": [
      "1.04 s ± 8.9 ms per loop (mean ± std. dev. of 7 runs, 1 loop each)\n",
      "783 ms ± 32.2 ms per loop (mean ± std. dev. of 7 runs, 1 loop each)\n",
      "263 ms ± 4.16 ms per loop (mean ± std. dev. of 7 runs, 1 loop each)\n"
     ]
    }
   ],
   "source": [
    "fwd_inv_tf = %timeit -o sess.run(out_tf, {in_placeholder: in_})\n",
    "fwd_inv_slim = %timeit -o sess.run(out_slim, {in_placeholder: in_})\n",
    "fwd_inv_conv = %timeit -o sess.run(out_conv, {in_placeholder: in_})"
   ]
  },
  {
   "cell_type": "code",
   "execution_count": 105,
   "metadata": {
    "ExecuteTime": {
     "end_time": "2018-02-20T15:07:18.895193Z",
     "start_time": "2018-02-20T15:07:18.694588Z"
    }
   },
   "outputs": [
    {
     "data": {
      "image/png": "[encoded data removed]",
      "text/plain": [
       "<matplotlib.figure.Figure at 0x7f25b20e0f98>"
      ]
     },
     "metadata": {},
     "output_type": "display_data"
    }
   ],
   "source": [
    "objects = ('tf fwd inv', 'slim fwd inv', 'conv2d 2 times')\n",
    "y_pos = np.arange(len(objects))\n",
    "performance = [fwd_inv_tf.average, fwd_inv_slim.average, fwd_inv_conv.average]\n",
    "performance = [i*1000 for i in performance]\n",
    "fig, ax = plt.subplots(1, figsize=(12,12))\n",
    "ax.bar(y_pos, performance, align='center', alpha=0.5, color=['blue', 'green', 'purple'])\n",
    "plt.xticks(y_pos, objects)\n",
    "plt.ylabel('Time (ms)')\n",
    "plt.title('Times to perform different DTCWT operations on large images')\n",
    "plt.show()"
   ]
  }
 ],
 "metadata": {
  "kernelspec": {
   "display_name": "Python 3",
   "language": "python",
   "name": "python3"
  },
  "language_info": {
   "codemirror_mode": {
    "name": "ipython",
    "version": 3
   },
   "file_extension": ".py",
   "mimetype": "text/x-python",
   "name": "python",
   "nbconvert_exporter": "python",
   "pygments_lexer": "ipython3",
   "version": "3.5.2"
  },
  "toc": {
   "colors": {
    "hover_highlight": "#DAA520",
    "navigate_num": "#000000",
    "navigate_text": "#333333",
    "running_highlight": "#FF0000",
    "selected_highlight": "#FFD700",
    "sidebar_border": "#EEEEEE",
    "wrapper_background": "#FFFFFF"
   },
   "moveMenuLeft": true,
   "nav_menu": {
    "height": "12px",
    "width": "252px"
   },
   "navigate_menu": true,
   "number_sections": true,
   "sideBar": true,
   "threshold": 4,
   "toc_cell": false,
   "toc_position": {
    "height": "678px",
    "left": "0px",
    "right": "1308.8px",
    "top": "108px",
    "width": "227px"
   },
   "toc_section_display": "none",
   "toc_window_display": true,
   "widenNotebook": false
  }
 },
 "nbformat": 4,
 "nbformat_minor": 2
}
